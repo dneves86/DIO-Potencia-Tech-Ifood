{
  "nbformat": 4,
  "nbformat_minor": 0,
  "metadata": {
    "colab": {
      "provenance": [],
      "authorship_tag": "ABX9TyMMRRYG9kRM49PauKNhsa5y",
      "include_colab_link": true
    },
    "kernelspec": {
      "name": "python3",
      "display_name": "Python 3"
    },
    "language_info": {
      "name": "python"
    }
  },
  "cells": [
    {
      "cell_type": "markdown",
      "metadata": {
        "id": "view-in-github",
        "colab_type": "text"
      },
      "source": [
        "<a href=\"https://colab.research.google.com/github/dneves86/DIO-Potencia-Tech-Ifood/blob/main/Desafio_sistema_bancario.ipynb\" target=\"_parent\"><img src=\"https://colab.research.google.com/assets/colab-badge.svg\" alt=\"Open In Colab\"/></a>"
      ]
    },
    {
      "cell_type": "markdown",
      "source": [
        "# Desafio: Criando um sistema bancário"
      ],
      "metadata": {
        "id": "CGjBwJQq_Dj2"
      }
    },
    {
      "cell_type": "markdown",
      "source": [
        "Fomos contratados por um grande banco para desenvolver o seu novo sistema. Esse banco deseja modernizar suas operações e para isso escolheu a linguagem Python. Para a primeira versão do sistema devemos implementar apenas 3 operações: depósito, saque e extrato."
      ],
      "metadata": {
        "id": "BxypkHTV_kZB"
      }
    },
    {
      "cell_type": "markdown",
      "source": [
        "##Operação de Depósito"
      ],
      "metadata": {
        "id": "aVo7t7JA_hdT"
      }
    },
    {
      "cell_type": "markdown",
      "source": [
        "Deve ser possível depositar valores positivos para a minha conta bancária. A v1 do projeto trabalha apenas com 1 usuário, dessa forma não precisamos nos preocupar em identificar qual é o número da agência e conta bancária. Todos os depósitos devem ser armazenados em uma variável e exibidos na operação de extrato."
      ],
      "metadata": {
        "id": "1iCVvPGf_wJQ"
      }
    },
    {
      "cell_type": "markdown",
      "source": [
        "###Operação de Saque"
      ],
      "metadata": {
        "id": "HqDTSE4B_x2C"
      }
    },
    {
      "cell_type": "markdown",
      "source": [
        "O sistema deve permitir realizar 3 saques diários com limite máximo de R$ 500,00 por saque. Caso o usuário não tenha saldo em conta, o sistema deve exibir uma mensagem informando que não será possível sacar o dinheiro por falta de saldo. Todos os saques devem ser armazenados em uma variável e exibidos na operação de extrato."
      ],
      "metadata": {
        "id": "giVeFkIq_2fx"
      }
    },
    {
      "cell_type": "markdown",
      "source": [
        "###Operação de Extrato"
      ],
      "metadata": {
        "id": "JcTcoVtd_4HI"
      }
    },
    {
      "cell_type": "markdown",
      "source": [
        "Essa operação deve listar todos os depósitos e saques realizados na conta. No fim da listagem deve ser exibido o saldo atual da conta. Se o extrato estiver em branco, exibir a mensagem: Não foram realizadas movimentações.\n",
        "Os valores devem ser exibidos utilizando o formato R\\$ xxx.xx, exemplo:\n",
        "1500.45 = R\\$ 1500.45"
      ],
      "metadata": {
        "id": "0J9BNI4e_-1w"
      }
    },
    {
      "cell_type": "code",
      "execution_count": 2,
      "metadata": {
        "colab": {
          "base_uri": "https://localhost:8080/",
          "height": 390
        },
        "id": "lroccMq_QV3t",
        "outputId": "0d97a382-f90f-4d87-bb1c-985093901316"
      },
      "outputs": [
        {
          "output_type": "error",
          "ename": "KeyboardInterrupt",
          "evalue": "ignored",
          "traceback": [
            "\u001b[0;31m---------------------------------------------------------------------------\u001b[0m",
            "\u001b[0;31mKeyboardInterrupt\u001b[0m                         Traceback (most recent call last)",
            "\u001b[0;32m<ipython-input-2-189349296e3c>\u001b[0m in \u001b[0;36m<cell line: 16>\u001b[0;34m()\u001b[0m\n\u001b[1;32m     16\u001b[0m \u001b[0;32mwhile\u001b[0m \u001b[0;32mTrue\u001b[0m\u001b[0;34m:\u001b[0m\u001b[0;34m\u001b[0m\u001b[0;34m\u001b[0m\u001b[0m\n\u001b[1;32m     17\u001b[0m \u001b[0;34m\u001b[0m\u001b[0m\n\u001b[0;32m---> 18\u001b[0;31m   \u001b[0mopcao\u001b[0m \u001b[0;34m=\u001b[0m \u001b[0minput\u001b[0m\u001b[0;34m(\u001b[0m\u001b[0mmenu\u001b[0m\u001b[0;34m)\u001b[0m\u001b[0;34m\u001b[0m\u001b[0;34m\u001b[0m\u001b[0m\n\u001b[0m\u001b[1;32m     19\u001b[0m \u001b[0;34m\u001b[0m\u001b[0m\n\u001b[1;32m     20\u001b[0m   \u001b[0;32mif\u001b[0m \u001b[0mopcao\u001b[0m \u001b[0;34m==\u001b[0m \u001b[0;34m'd'\u001b[0m\u001b[0;34m:\u001b[0m\u001b[0;34m\u001b[0m\u001b[0;34m\u001b[0m\u001b[0m\n",
            "\u001b[0;32m/usr/local/lib/python3.10/dist-packages/ipykernel/kernelbase.py\u001b[0m in \u001b[0;36mraw_input\u001b[0;34m(self, prompt)\u001b[0m\n\u001b[1;32m    849\u001b[0m                 \u001b[0;34m\"raw_input was called, but this frontend does not support input requests.\"\u001b[0m\u001b[0;34m\u001b[0m\u001b[0;34m\u001b[0m\u001b[0m\n\u001b[1;32m    850\u001b[0m             )\n\u001b[0;32m--> 851\u001b[0;31m         return self._input_request(str(prompt),\n\u001b[0m\u001b[1;32m    852\u001b[0m             \u001b[0mself\u001b[0m\u001b[0;34m.\u001b[0m\u001b[0m_parent_ident\u001b[0m\u001b[0;34m,\u001b[0m\u001b[0;34m\u001b[0m\u001b[0;34m\u001b[0m\u001b[0m\n\u001b[1;32m    853\u001b[0m             \u001b[0mself\u001b[0m\u001b[0;34m.\u001b[0m\u001b[0m_parent_header\u001b[0m\u001b[0;34m,\u001b[0m\u001b[0;34m\u001b[0m\u001b[0;34m\u001b[0m\u001b[0m\n",
            "\u001b[0;32m/usr/local/lib/python3.10/dist-packages/ipykernel/kernelbase.py\u001b[0m in \u001b[0;36m_input_request\u001b[0;34m(self, prompt, ident, parent, password)\u001b[0m\n\u001b[1;32m    893\u001b[0m             \u001b[0;32mexcept\u001b[0m \u001b[0mKeyboardInterrupt\u001b[0m\u001b[0;34m:\u001b[0m\u001b[0;34m\u001b[0m\u001b[0;34m\u001b[0m\u001b[0m\n\u001b[1;32m    894\u001b[0m                 \u001b[0;31m# re-raise KeyboardInterrupt, to truncate traceback\u001b[0m\u001b[0;34m\u001b[0m\u001b[0;34m\u001b[0m\u001b[0m\n\u001b[0;32m--> 895\u001b[0;31m                 \u001b[0;32mraise\u001b[0m \u001b[0mKeyboardInterrupt\u001b[0m\u001b[0;34m(\u001b[0m\u001b[0;34m\"Interrupted by user\"\u001b[0m\u001b[0;34m)\u001b[0m \u001b[0;32mfrom\u001b[0m \u001b[0;32mNone\u001b[0m\u001b[0;34m\u001b[0m\u001b[0;34m\u001b[0m\u001b[0m\n\u001b[0m\u001b[1;32m    896\u001b[0m             \u001b[0;32mexcept\u001b[0m \u001b[0mException\u001b[0m \u001b[0;32mas\u001b[0m \u001b[0me\u001b[0m\u001b[0;34m:\u001b[0m\u001b[0;34m\u001b[0m\u001b[0;34m\u001b[0m\u001b[0m\n\u001b[1;32m    897\u001b[0m                 \u001b[0mself\u001b[0m\u001b[0;34m.\u001b[0m\u001b[0mlog\u001b[0m\u001b[0;34m.\u001b[0m\u001b[0mwarning\u001b[0m\u001b[0;34m(\u001b[0m\u001b[0;34m\"Invalid Message:\"\u001b[0m\u001b[0;34m,\u001b[0m \u001b[0mexc_info\u001b[0m\u001b[0;34m=\u001b[0m\u001b[0;32mTrue\u001b[0m\u001b[0;34m)\u001b[0m\u001b[0;34m\u001b[0m\u001b[0;34m\u001b[0m\u001b[0m\n",
            "\u001b[0;31mKeyboardInterrupt\u001b[0m: Interrupted by user"
          ]
        }
      ],
      "source": [
        "menu = \"\"\"\n",
        "\n",
        "[d] Depositar\n",
        "[s] Sacar\n",
        "[e] Extrato\n",
        "[q] Sair\n",
        "\n",
        "=> \"\"\"\n",
        "\n",
        "saldo = 0\n",
        "limite = 500\n",
        "extrato = \"\"\n",
        "numero_saques = 0\n",
        "LIMITE_SAQUES = 3\n",
        "\n",
        "while True:\n",
        "\n",
        "  opcao = input(menu)\n",
        "\n",
        "  if opcao == 'd':\n",
        "    valor = float(input('Informe o valor do depósito: '))\n",
        "\n",
        "    if valor > 0:\n",
        "      saldo += valor\n",
        "      extrato += f'Depósito: R$ {valor:.2f}\\n'\n",
        "\n",
        "    else:\n",
        "      print('Operação falhou! O valor informado é invalido')\n",
        "\n",
        "  elif opcao == 's':\n",
        "    valor = float(input('Informe o valor do saque: '))\n",
        "\n",
        "    excedeu_saldo = valor > saldo\n",
        "\n",
        "    excedeu_limite = valor > limite\n",
        "\n",
        "    excedeu_saques = numero_saques > LIMITE_SAQUES\n",
        "\n",
        "    if excedeu_saldo:\n",
        "      print('Operaçao falhou! Você não tem saldo suficiente!')\n",
        "\n",
        "    elif excedeu_limite:\n",
        "      print('Operação falhou! O valor do saque excede o limite!')\n",
        "\n",
        "    elif excedeu_saques:\n",
        "      print('Operação falhou! Número máximo de saques foi excedido!')\n",
        "\n",
        "    elif valor > 0:\n",
        "      saldo -= valor\n",
        "      extrato += f'Saque: R$ {valor:.2f}\\n'\n",
        "      numero_saques += 1\n",
        "\n",
        "    else:\n",
        "      print('Operação falho! O valor informado é inválido!')\n",
        "\n",
        "  elif opcao == 'e':\n",
        "    print('\\n================ EXTRATO ================')\n",
        "    print('Não foram realizadas movimentações.' if not extrato else extrato)\n",
        "    print(f'\\nSaldo: R$ {saldo:.2f}')\n",
        "    print('==========================================')\n",
        "\n",
        "  elif opcao == 'q':\n",
        "    break\n",
        "\n",
        "  else:\n",
        "    print('Operação inválida! Por favor selecione novamente a operação desejada!')"
      ]
    }
  ]
}