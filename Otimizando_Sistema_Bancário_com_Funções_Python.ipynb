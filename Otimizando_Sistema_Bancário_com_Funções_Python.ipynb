{
  "nbformat": 4,
  "nbformat_minor": 0,
  "metadata": {
    "colab": {
      "provenance": [],
      "collapsed_sections": [
        "O2eI7fgCYo5O"
      ],
      "authorship_tag": "ABX9TyOMrnzsOc746r5VBo+PIngz",
      "include_colab_link": true
    },
    "kernelspec": {
      "name": "python3",
      "display_name": "Python 3"
    },
    "language_info": {
      "name": "python"
    }
  },
  "cells": [
    {
      "cell_type": "markdown",
      "metadata": {
        "id": "view-in-github",
        "colab_type": "text"
      },
      "source": [
        "<a href=\"https://colab.research.google.com/github/dneves86/DIO-Potencia-Tech-Ifood/blob/main/Otimizando_Sistema_Banc%C3%A1rio_com_Fun%C3%A7%C3%B5es_Python.ipynb\" target=\"_parent\"><img src=\"https://colab.research.google.com/assets/colab-badge.svg\" alt=\"Open In Colab\"/></a>"
      ]
    },
    {
      "cell_type": "markdown",
      "source": [
        "#Desafio"
      ],
      "metadata": {
        "id": "WuSzmexJVt_b"
      }
    },
    {
      "cell_type": "markdown",
      "source": [
        "Precisamos deixar nosso código mais modularizado, para isso vamos criar funções para as operações existentes: sacar, depositar e visualizar histórico. Além disso, para a versão 2 do nosso sistema precisamos criar duas novas funções: criar usuário (cliente do banco) e criar conta corrente (vincular com usuário)."
      ],
      "metadata": {
        "id": "v_dtVwYAVz0M"
      }
    },
    {
      "cell_type": "code",
      "source": [
        "import textwrap\n",
        "\n",
        "def menu():\n",
        "  menu = \"\"\"\\n\n",
        "  ================= MENU =================\n",
        "  [d]\\tDepositar\n",
        "  [s]\\tSacar\n",
        "  [e]\\tExtrato\n",
        "  [nc]\\tNova conta\n",
        "  [lc]\\tListar contas\n",
        "  [nu]\\tNovo usuário\n",
        "  [q]\\tSair\n",
        "  => \"\"\"\n",
        "  return input(textwrap.dedent(menu))"
      ],
      "metadata": {
        "id": "2MmNszSL_1ty"
      },
      "execution_count": 1,
      "outputs": []
    },
    {
      "cell_type": "markdown",
      "source": [
        "##Separação em funções"
      ],
      "metadata": {
        "id": "MqfrGyQkWbRm"
      }
    },
    {
      "cell_type": "markdown",
      "source": [
        "Devemos criar funções para todas as operações do sistema. Para exercitar tudo o que aprendemos neste módulo, cada função vai ter uma regra na passagem de argumentos."
      ],
      "metadata": {
        "id": "6AeaNEUtV0Ar"
      }
    },
    {
      "cell_type": "markdown",
      "source": [
        "###Saque"
      ],
      "metadata": {
        "id": "E5JtqCwvYC4U"
      }
    },
    {
      "cell_type": "markdown",
      "source": [
        "A função saque deve receber os argumentos apenas por nome (keyword only). Sugestão de argumentos: saldo, valor, extrato, limite, numero_saques, limite_saques. Sugestão de retorno: saldo e extrato."
      ],
      "metadata": {
        "id": "e7PzBt2kYTjD"
      }
    },
    {
      "cell_type": "code",
      "source": [
        "def sacar(*, saldo, valor, extrato, limite, numero_saques, limite_saques):\n",
        "  excedeu_saldo = valor > saldo\n",
        "  excedeu_limite = valor > limite\n",
        "  excedeu_saques = numero_saques >= limite_saques\n",
        "\n",
        "  if excedeu_saldo:\n",
        "    print('Operaçao falhou! Você não tem saldo suficiente!')\n",
        "\n",
        "  elif excedeu_limite:\n",
        "    print('Operação falhou! O valor do saque excede o limite!')\n",
        "\n",
        "  elif excedeu_saques:\n",
        "    print('Operação falhou! Número máximo de saques foi excedido!')\n",
        "\n",
        "  elif valor > 0:\n",
        "    saldo -= valor\n",
        "    extrato += f'Saque:\\t\\tR$ {valor:.2f}\\n'\n",
        "    numero_saques += 1\n",
        "    print('\\nSaque realizado com sucesso!')\n",
        "\n",
        "  else:\n",
        "    print('Operação falho! O valor informado é inválido!')\n",
        "\n",
        "  return saldo, extrato"
      ],
      "metadata": {
        "id": "ZE0AwzjiEFv6"
      },
      "execution_count": 11,
      "outputs": []
    },
    {
      "cell_type": "markdown",
      "source": [
        "###Depósito"
      ],
      "metadata": {
        "id": "O2eI7fgCYo5O"
      }
    },
    {
      "cell_type": "markdown",
      "source": [
        "A função depósito deve receber os argumentos apenas por posição (positional only). Sugestão de argumentos: saldo, valor, extrato. Sugestão de retorno: saldo e extrato."
      ],
      "metadata": {
        "id": "r5P9DgERY3Iy"
      }
    },
    {
      "cell_type": "code",
      "source": [
        "def depositar(saldo, valor, extrato, /):\n",
        "\n",
        "    if valor > 0:\n",
        "      saldo += valor\n",
        "      extrato += f'Depósito: R$ {valor:.2f}\\n'\n",
        "      print('\\nDepósito realizado com sucesso!')\n",
        "\n",
        "    else:\n",
        "      print('\\nOperação falhou! O valor informado é invalido')\n",
        "\n",
        "    return saldo, extrato"
      ],
      "metadata": {
        "id": "0TFGMIeBCLfI"
      },
      "execution_count": 3,
      "outputs": []
    },
    {
      "cell_type": "markdown",
      "source": [
        "###Extrato"
      ],
      "metadata": {
        "id": "1BnuBxl9ZIWP"
      }
    },
    {
      "cell_type": "markdown",
      "source": [
        "A função extrato deve receber os argumentos por posição e nome (positional only e keyword only). Argumentos posicionais: saldo. Argumentos nomeados: extrato."
      ],
      "metadata": {
        "id": "a-oaH306Zc4J"
      }
    },
    {
      "cell_type": "code",
      "source": [
        "def exibir_extrato(saldo, /, *, extrato):\n",
        "  print('\\n================ EXTRATO ================')\n",
        "  print('Não foram realizadas movimentações.' if not extrato else extrato)\n",
        "  print(f'\\nSaldo:\\t\\tR$ {saldo:.2f}')\n",
        "  print('==========================================')"
      ],
      "metadata": {
        "id": "ALwBmtPEGNyF"
      },
      "execution_count": 4,
      "outputs": []
    },
    {
      "cell_type": "markdown",
      "source": [
        "###Novas funções"
      ],
      "metadata": {
        "id": "ympn7XpPZvIA"
      }
    },
    {
      "cell_type": "markdown",
      "source": [
        "Precisamos criar duas novas funções: criar usuário e criar conta corrente."
      ],
      "metadata": {
        "id": "gEff5yxvZ0m9"
      }
    },
    {
      "cell_type": "markdown",
      "source": [
        "####Criar usuário (cliente)"
      ],
      "metadata": {
        "id": "rRfo4oR3Z_Mc"
      }
    },
    {
      "cell_type": "markdown",
      "source": [
        "O programa deve armazenar os usuários em uma lista. Um usuário é composto por: nome, data de nascimento, cpf e endereço. O endereço é uma string com formato: logradouro, nro - bairro - cidade/sigla estado. Deve ser armazenado somente os números do CPF. Não podemos cadastrar dois usuários com o mesmo CPF."
      ],
      "metadata": {
        "id": "qeLTUQzYaIAs"
      }
    },
    {
      "cell_type": "code",
      "source": [
        "def criar_usuario(usuarios):\n",
        "  cpf = input('Informe o CPF (somente número): ')\n",
        "  usuario = filtrar_usuario(cpf, usuarios)\n",
        "\n",
        "  if usuario:\n",
        "    print(print('\\nJá existe usuário com esse CPF!'))\n",
        "    return\n",
        "\n",
        "  nome = input('Informe o nome completo: ')\n",
        "  data_nascimento = input('Informe a data de nascimento (dd-mm-aaaa): ')\n",
        "  endereco = input('Informe o endereço (logradouro, nro - bairro - cidade/sigla estado): ')\n",
        "\n",
        "  usuarios.append({'nome': nome, 'cpf': cpf, 'data_nascimento': data_nascimento, 'endereco': endereco})\n",
        "\n",
        "  print('Usuário criado com sucesso!')\n",
        "\n",
        "def filtrar_usuario(cpf, usuarios):\n",
        "  usuarios_filtrados = [usuario for usuario in usuarios if usuario['cpf'] == cpf]\n",
        "  return usuarios_filtrados[0] if usuarios_filtrados else None"
      ],
      "metadata": {
        "id": "TufRkseZGxAl"
      },
      "execution_count": 5,
      "outputs": []
    },
    {
      "cell_type": "markdown",
      "source": [
        "####Criar conta corrente"
      ],
      "metadata": {
        "id": "hEe1hLAZa2GU"
      }
    },
    {
      "cell_type": "markdown",
      "source": [
        "O programa deve armazenar contas em uma lista, uma conta é composta por: agência, número da conta e usuário. O número da conta é sequencial, iniciando em 1. O número da agência é fixo: \"0001\". O usuário pode ter mais de uma conta, mas uma conta pertence a somente um usuário."
      ],
      "metadata": {
        "id": "8XEE4YtXa5Hp"
      }
    },
    {
      "cell_type": "code",
      "source": [
        "def criar_conta(agencia, numero_conta, usuarios):\n",
        "  cpf = input('Informe o CPF do usuário: ')\n",
        "  usuario = filtrar_usuario(cpf, usuarios)\n",
        "\n",
        "  if usuario:\n",
        "    print('\\nConta criada com sucesso!')\n",
        "    return {'agencia': agencia, 'numero_conta': numero_conta, 'usuario': usuario}\n",
        "\n",
        "  print('\\nUsuário não encontrado, fluxo de criação de conta encerrado!')\n",
        "\n",
        "def listar_contas(contas):\n",
        "  for conta in contas:\n",
        "    linha = f\"\"\"\\\n",
        "      Agência:\\t{conta['agencia']}\n",
        "      C/C:\\t\\t{conta['numero_conta']}\n",
        "      Titular:\\t{conta['usuario']['nome']}\n",
        "    \"\"\"\n",
        "    print('=' * 100)\n",
        "    print(textwrap.dedent(linha))"
      ],
      "metadata": {
        "id": "TNu-gL6GKBFj"
      },
      "execution_count": 6,
      "outputs": []
    },
    {
      "cell_type": "markdown",
      "source": [
        "##Main"
      ],
      "metadata": {
        "id": "0EIITGyobWnu"
      }
    },
    {
      "cell_type": "code",
      "source": [
        "def main():\n",
        "  LIMITE_SAQUES = 3\n",
        "  AGENCIA = '0001'\n",
        "\n",
        "  saldo = 0\n",
        "  limite = 500\n",
        "  extrato = ''\n",
        "  numero_saques = 0\n",
        "  usuarios = []\n",
        "  contas = []\n",
        "\n",
        "  while True:\n",
        "    opcao = menu()\n",
        "\n",
        "    if opcao == 'd':\n",
        "      valor = float(input('Informe o valor do depósito: '))\n",
        "\n",
        "      saldo, extrato = depositar(saldo, valor, extrato)\n",
        "\n",
        "    elif opcao == 's':\n",
        "      valor = float(input('Informe o valor do saque: '))\n",
        "\n",
        "      saldo, extrato = sacar(\n",
        "          saldo = saldo,\n",
        "          valor = valor,\n",
        "          extrato = extrato,\n",
        "          limite = limite,\n",
        "          numero_saques = numero_saques,\n",
        "          limite_saques = LIMITE_SAQUES,\n",
        "      )\n",
        "\n",
        "    elif opcao == 'e':\n",
        "      exibir_extrato(saldo, extrato=extrato)\n",
        "\n",
        "    elif opcao == 'nu':\n",
        "      criar_usuario(usuarios)\n",
        "\n",
        "    elif opcao == 'nc':\n",
        "      numero_conta = len(contas) + 1\n",
        "      conta = criar_conta(AGENCIA, numero_conta, usuarios)\n",
        "\n",
        "      if conta:\n",
        "        contas.append(conta)\n",
        "\n",
        "    elif opcao == 'lc':\n",
        "      listar_contas(contas)\n",
        "\n",
        "    elif opcao =='q':\n",
        "      break\n",
        "\n",
        "    else:\n",
        "      print('Operação inválida, por favor selecione novamente a operação desejada.')"
      ],
      "metadata": {
        "id": "s66CPeVrM6SN"
      },
      "execution_count": 12,
      "outputs": []
    },
    {
      "cell_type": "code",
      "source": [
        "main()"
      ],
      "metadata": {
        "colab": {
          "base_uri": "https://localhost:8080/"
        },
        "id": "4sVX9myHP4wv",
        "outputId": "2d9b9743-21ad-4a90-a9dd-9da8fd38df48"
      },
      "execution_count": 13,
      "outputs": [
        {
          "name": "stdout",
          "output_type": "stream",
          "text": [
            "\n",
            "\n",
            "================= MENU =================\n",
            "[d]\tDepositar\n",
            "[s]\tSacar\n",
            "[e]\tExtrato\n",
            "[nc]\tNova conta\n",
            "[lc]\tListar contas\n",
            "[nu]\tNovo usuário\n",
            "[q]\tSair\n",
            "=> s\n",
            "Informe o valor do saque: 500\n",
            "Operaçao falhou! Você não tem saldo suficiente!\n",
            "\n",
            "\n",
            "================= MENU =================\n",
            "[d]\tDepositar\n",
            "[s]\tSacar\n",
            "[e]\tExtrato\n",
            "[nc]\tNova conta\n",
            "[lc]\tListar contas\n",
            "[nu]\tNovo usuário\n",
            "[q]\tSair\n",
            "=> d\n",
            "Informe o valor do depósito: 1000\n",
            "\n",
            "Depósito realizado com sucesso!\n",
            "\n",
            "\n",
            "================= MENU =================\n",
            "[d]\tDepositar\n",
            "[s]\tSacar\n",
            "[e]\tExtrato\n",
            "[nc]\tNova conta\n",
            "[lc]\tListar contas\n",
            "[nu]\tNovo usuário\n",
            "[q]\tSair\n",
            "=> s\n",
            "Informe o valor do saque: 500\n",
            "\n",
            "Saque realizado com sucesso!\n",
            "\n",
            "\n",
            "================= MENU =================\n",
            "[d]\tDepositar\n",
            "[s]\tSacar\n",
            "[e]\tExtrato\n",
            "[nc]\tNova conta\n",
            "[lc]\tListar contas\n",
            "[nu]\tNovo usuário\n",
            "[q]\tSair\n",
            "=> e\n",
            "\n",
            "================ EXTRATO ================\n",
            "Depósito: R$ 1000.00\n",
            "Saque:\t\tR$ 500.00\n",
            "\n",
            "\n",
            "Saldo:\t\tR$ 500.00\n",
            "==========================================\n",
            "\n",
            "\n",
            "================= MENU =================\n",
            "[d]\tDepositar\n",
            "[s]\tSacar\n",
            "[e]\tExtrato\n",
            "[nc]\tNova conta\n",
            "[lc]\tListar contas\n",
            "[nu]\tNovo usuário\n",
            "[q]\tSair\n",
            "=> q\n"
          ]
        }
      ]
    }
  ]
}